{
 "cells": [
  {
   "cell_type": "markdown",
   "metadata": {},
   "source": [
    "![Tracked_Logo](img/logo.png)"
   ]
  },
  {
   "cell_type": "markdown",
   "metadata": {},
   "source": [
    "<h1><center>Welcome to the Regex Practice Case Study</center></h1>\n",
    "\n",
    "<b> In this Track Stop, you've covered regular expressions and how we can make use of them to identify patterns in the dataframe as well as how to Interpolate and fill in missing values/gaps in a dataset </b>\n",
    "\n",
    "<b> We've pulled together a mini practice exercise using Soy Bean Commodity Data that you'll have to clean up and analyse below! </b>\n"
   ]
  },
  {
   "cell_type": "markdown",
   "metadata": {},
   "source": [
    "<img src = \"https://cdn.dribbble.com/users/1550532/screenshots/4863550/soja.gif\">"
   ]
  },
  {
   "cell_type": "markdown",
   "metadata": {},
   "source": [
    "<b> Before we start our data cleansing analysis, we'll have to understand what information we have in the dataframes. </b>\n",
    "\n",
    "To do this, we'll first need to import the relevant libraries that allow us to explore our data sources. \n",
    "We'll need to import the following libraries at a minimum.\n",
    "\n",
    "<ol>\n",
    "  <li>Pandas</li>\n",
    "  <li>Matplotlib</li>\n",
    "  <li>Seaborn</li>\n",
    "</ol>\n",
    "\n",
    "<b><span style=\"color: #20b2aa\"> Remember the syntax for importing libraries in Python is: </span>\n",
    "\n",
    "<b> import library </b> \n",
    "<p>    \n",
    "\n",
    "<i>Note: To set reasonable sized plots, don't forget to include the following line of code after you've imported matplotlib.</i>\n",
    "matplotlib.rcParams['figure.figsize'] = (25,5) "
   ]
  },
  {
   "cell_type": "markdown",
   "metadata": {},
   "source": [
    "<b><span style=\"color: #20b2aa\">Place your answer below here </style></b>"
   ]
  },
  {
   "cell_type": "code",
   "execution_count": 1,
   "metadata": {},
   "outputs": [],
   "source": [
    "import pandas as pd\n",
    "import matplotlib.pyplot as plt\n",
    "import matplotlib as mpl\n",
    "import seaborn as sns\n",
    "import numpy as np\n",
    "\n",
    "mpl.rcParams['figure.figsize'] = (25,5)"
   ]
  },
  {
   "cell_type": "markdown",
   "metadata": {},
   "source": [
    "Now that you've imported the libraries, it's time to load this into a dataframe. \n",
    "Load the Soybean csv file into a dataframe.\n",
    "\n",
    "Upon loading of this, explore the dataframe briefly.\n",
    "<h3> Question 1 </h3>\n",
    "\n",
    "You've noticed that the Commodity Column in your Dataset has a peculiarity.\n",
    "\n",
    "It has the following items:\n",
    "\n",
    "<li> Soy_Commodity \n",
    "<li> Soy_Bean_Commodity\n",
    "<li> Mung_Bean_Commodity_Soy_  \n",
    "<li> Soy_Beann_Commodity\n",
    "<li> Soybean_Commodity\n",
    "\n",
    "When in fact, it should only be called Soybean_Commodity.\n",
    "    \n",
    "Using the skill(s) you've learnt so far and the .replace() function - please replace all other values with Soybean_Commodity.\n",
    "\n",
    "<b> Before starting this question, we recommend you take a look at the Syntax Assistance below that will guide you on how to tackle this as a refresher. </b>\n"
   ]
  },
  {
   "cell_type": "code",
   "execution_count": 2,
   "metadata": {},
   "outputs": [],
   "source": [
    "soy_df = pd.read_csv('C:\\\\Users\\\\14087\\\\Soy Bean Regex Assignment\\\\Data_Prep_Soy_Bean_Cleansing.csv')\n",
    "\n",
    "soy_df2 = pd.read_csv('C:\\\\Users\\\\14087\\\\Soy Bean Regex Assignment\\\\Data_Prep_Soy_Bean_Cleansing.csv')"
   ]
  },
  {
   "cell_type": "code",
   "execution_count": 3,
   "metadata": {},
   "outputs": [
    {
     "name": "stdout",
     "output_type": "stream",
     "text": [
      "<class 'pandas.core.frame.DataFrame'>\n",
      "RangeIndex: 99 entries, 0 to 98\n",
      "Data columns (total 4 columns):\n",
      " #   Column            Non-Null Count  Dtype \n",
      "---  ------            --------------  ----- \n",
      " 0   OPR_DATE          99 non-null     object\n",
      " 1   Commodity_Traded  99 non-null     object\n",
      " 2   Contract_Traded   99 non-null     object\n",
      " 3   VALUE             97 non-null     object\n",
      "dtypes: object(4)\n",
      "memory usage: 3.2+ KB\n"
     ]
    }
   ],
   "source": [
    "soy_df.info()"
   ]
  },
  {
   "cell_type": "code",
   "execution_count": 4,
   "metadata": {},
   "outputs": [
    {
     "data": {
      "text/html": [
       "<div>\n",
       "<style scoped>\n",
       "    .dataframe tbody tr th:only-of-type {\n",
       "        vertical-align: middle;\n",
       "    }\n",
       "\n",
       "    .dataframe tbody tr th {\n",
       "        vertical-align: top;\n",
       "    }\n",
       "\n",
       "    .dataframe thead th {\n",
       "        text-align: right;\n",
       "    }\n",
       "</style>\n",
       "<table border=\"1\" class=\"dataframe\">\n",
       "  <thead>\n",
       "    <tr style=\"text-align: right;\">\n",
       "      <th></th>\n",
       "      <th>OPR_DATE</th>\n",
       "      <th>Commodity_Traded</th>\n",
       "      <th>Contract_Traded</th>\n",
       "      <th>VALUE</th>\n",
       "    </tr>\n",
       "  </thead>\n",
       "  <tbody>\n",
       "    <tr>\n",
       "      <th>0</th>\n",
       "      <td>3/10/2018 0:00</td>\n",
       "      <td>Soy_Commodity</td>\n",
       "      <td>Mar-19</td>\n",
       "      <td>$83.48</td>\n",
       "    </tr>\n",
       "    <tr>\n",
       "      <th>1</th>\n",
       "      <td>3/10/2018 0:00</td>\n",
       "      <td>Soy_Bean_Commodity</td>\n",
       "      <td>Mar-19</td>\n",
       "      <td>$83.11</td>\n",
       "    </tr>\n",
       "    <tr>\n",
       "      <th>2</th>\n",
       "      <td>3/10/2018 0:00</td>\n",
       "      <td>Mung_Bean_Commodity_Soy_</td>\n",
       "      <td>Apr-19</td>\n",
       "      <td>$83.80</td>\n",
       "    </tr>\n",
       "    <tr>\n",
       "      <th>3</th>\n",
       "      <td>3/10/2018 0:00</td>\n",
       "      <td>Soy_Bean_Commodity</td>\n",
       "      <td>May-19</td>\n",
       "      <td>$82.72</td>\n",
       "    </tr>\n",
       "    <tr>\n",
       "      <th>4</th>\n",
       "      <td>3/10/2018 0:00</td>\n",
       "      <td>Soy_Beann_Commodity</td>\n",
       "      <td>Jun-19</td>\n",
       "      <td>$81.49</td>\n",
       "    </tr>\n",
       "    <tr>\n",
       "      <th>5</th>\n",
       "      <td>3/10/2018 0:00</td>\n",
       "      <td>Soy_Commodity</td>\n",
       "      <td>Jul-19</td>\n",
       "      <td>$80.27</td>\n",
       "    </tr>\n",
       "    <tr>\n",
       "      <th>6</th>\n",
       "      <td>3/10/2018 0:00</td>\n",
       "      <td>Soy_Beann_Commodity</td>\n",
       "      <td>Mmar-19</td>\n",
       "      <td>$82.11</td>\n",
       "    </tr>\n",
       "    <tr>\n",
       "      <th>7</th>\n",
       "      <td>3/10/2018 0:00</td>\n",
       "      <td>Soy_Beann_Commodity</td>\n",
       "      <td>Apr-19</td>\n",
       "      <td>$79.68</td>\n",
       "    </tr>\n",
       "    <tr>\n",
       "      <th>8</th>\n",
       "      <td>3/10/2018 0:00</td>\n",
       "      <td>Mung_Bean_Commodity_Soy_</td>\n",
       "      <td>Junnn-19</td>\n",
       "      <td>-$12.06</td>\n",
       "    </tr>\n",
       "    <tr>\n",
       "      <th>9</th>\n",
       "      <td>3/10/2018 0:00</td>\n",
       "      <td>Mung_Bean_Commodity_Soy_</td>\n",
       "      <td>Jul-19</td>\n",
       "      <td>$77.34</td>\n",
       "    </tr>\n",
       "    <tr>\n",
       "      <th>10</th>\n",
       "      <td>4/10/2018 0:00</td>\n",
       "      <td>Soy_Bean_Commodity</td>\n",
       "      <td>Juley-19</td>\n",
       "      <td>$84.59</td>\n",
       "    </tr>\n",
       "    <tr>\n",
       "      <th>11</th>\n",
       "      <td>4/10/2018 0:00</td>\n",
       "      <td>Soybean_Commodity</td>\n",
       "      <td>Desemb-19</td>\n",
       "      <td>$84.24</td>\n",
       "    </tr>\n",
       "    <tr>\n",
       "      <th>12</th>\n",
       "      <td>4/10/2018 0:00</td>\n",
       "      <td>Soy_Bean_Commodity</td>\n",
       "      <td>Dec-19</td>\n",
       "      <td>NaN</td>\n",
       "    </tr>\n",
       "    <tr>\n",
       "      <th>13</th>\n",
       "      <td>4/10/2018 0:00</td>\n",
       "      <td>Soy_Bean_Commodity</td>\n",
       "      <td>Dec-19</td>\n",
       "      <td>$83.69</td>\n",
       "    </tr>\n",
       "    <tr>\n",
       "      <th>14</th>\n",
       "      <td>4/10/2018 0:00</td>\n",
       "      <td>Soy_Bean_Commodity</td>\n",
       "      <td>Mar-19</td>\n",
       "      <td>$83.37</td>\n",
       "    </tr>\n",
       "    <tr>\n",
       "      <th>15</th>\n",
       "      <td>4/10/2018 0:00</td>\n",
       "      <td>Soybean_Commodity</td>\n",
       "      <td>Apr-19</td>\n",
       "      <td>$83.68</td>\n",
       "    </tr>\n",
       "    <tr>\n",
       "      <th>16</th>\n",
       "      <td>4/10/2018 0:00</td>\n",
       "      <td>Mung_Bean_Commodity_Soy_</td>\n",
       "      <td>May-19</td>\n",
       "      <td>$82.64</td>\n",
       "    </tr>\n",
       "    <tr>\n",
       "      <th>17</th>\n",
       "      <td>4/10/2018 0:00</td>\n",
       "      <td>Soy_Bean_Commodity</td>\n",
       "      <td>Jun-19</td>\n",
       "      <td>$81.46</td>\n",
       "    </tr>\n",
       "    <tr>\n",
       "      <th>18</th>\n",
       "      <td>4/10/2018 0:00</td>\n",
       "      <td>Soybean_Commodity</td>\n",
       "      <td>Jul-19</td>\n",
       "      <td>$80.28</td>\n",
       "    </tr>\n",
       "    <tr>\n",
       "      <th>19</th>\n",
       "      <td>4/10/2018 0:00</td>\n",
       "      <td>Soy_Commodity</td>\n",
       "      <td>Mmar-19</td>\n",
       "      <td>$82.05</td>\n",
       "    </tr>\n",
       "    <tr>\n",
       "      <th>20</th>\n",
       "      <td>4/10/2018 0:00</td>\n",
       "      <td>Soy_Beann_Commodity</td>\n",
       "      <td>Apr-19</td>\n",
       "      <td>-$19.71</td>\n",
       "    </tr>\n",
       "    <tr>\n",
       "      <th>21</th>\n",
       "      <td>4/10/2018 0:00</td>\n",
       "      <td>Soy_Bean_Commodity</td>\n",
       "      <td>Junnn-19</td>\n",
       "      <td>$82.01</td>\n",
       "    </tr>\n",
       "    <tr>\n",
       "      <th>22</th>\n",
       "      <td>4/10/2018 0:00</td>\n",
       "      <td>Soy_Beann_Commodity</td>\n",
       "      <td>Jul-19</td>\n",
       "      <td>$77.44</td>\n",
       "    </tr>\n",
       "    <tr>\n",
       "      <th>23</th>\n",
       "      <td>26/09/2018 0:00</td>\n",
       "      <td>Soy_Beann_Commodity</td>\n",
       "      <td>Jun-19</td>\n",
       "      <td>$77.77</td>\n",
       "    </tr>\n",
       "    <tr>\n",
       "      <th>24</th>\n",
       "      <td>26/09/2018 0:00</td>\n",
       "      <td>Soy_Beann_Commodity</td>\n",
       "      <td>Jul-19</td>\n",
       "      <td>$76.69</td>\n",
       "    </tr>\n",
       "    <tr>\n",
       "      <th>25</th>\n",
       "      <td>26/09/2018 0:00</td>\n",
       "      <td>Soy_Beann_Commodity</td>\n",
       "      <td>Janeury-19</td>\n",
       "      <td>$75.61</td>\n",
       "    </tr>\n",
       "    <tr>\n",
       "      <th>26</th>\n",
       "      <td>26/09/2018 0:00</td>\n",
       "      <td>Soy_Commodity</td>\n",
       "      <td>Apr-19</td>\n",
       "      <td>$80.25</td>\n",
       "    </tr>\n",
       "    <tr>\n",
       "      <th>27</th>\n",
       "      <td>26/09/2018 0:00</td>\n",
       "      <td>Soy_Commodity</td>\n",
       "      <td>Mmar-19</td>\n",
       "      <td>$78.31</td>\n",
       "    </tr>\n",
       "    <tr>\n",
       "      <th>28</th>\n",
       "      <td>26/09/2018 0:00</td>\n",
       "      <td>Soy_Commodity</td>\n",
       "      <td>Apr-19</td>\n",
       "      <td>$76.15</td>\n",
       "    </tr>\n",
       "    <tr>\n",
       "      <th>29</th>\n",
       "      <td>26/09/2018 0:00</td>\n",
       "      <td>Soy_Commodity</td>\n",
       "      <td>Junnn-19</td>\n",
       "      <td>$78.28</td>\n",
       "    </tr>\n",
       "  </tbody>\n",
       "</table>\n",
       "</div>"
      ],
      "text/plain": [
       "           OPR_DATE            Commodity_Traded Contract_Traded    VALUE\n",
       "0    3/10/2018 0:00              Soy_Commodity           Mar-19   $83.48\n",
       "1    3/10/2018 0:00          Soy_Bean_Commodity          Mar-19   $83.11\n",
       "2    3/10/2018 0:00  Mung_Bean_Commodity_Soy_            Apr-19   $83.80\n",
       "3    3/10/2018 0:00          Soy_Bean_Commodity          May-19   $82.72\n",
       "4    3/10/2018 0:00         Soy_Beann_Commodity          Jun-19   $81.49\n",
       "5    3/10/2018 0:00              Soy_Commodity           Jul-19   $80.27\n",
       "6    3/10/2018 0:00         Soy_Beann_Commodity         Mmar-19   $82.11\n",
       "7    3/10/2018 0:00         Soy_Beann_Commodity          Apr-19   $79.68\n",
       "8    3/10/2018 0:00  Mung_Bean_Commodity_Soy_          Junnn-19  -$12.06\n",
       "9    3/10/2018 0:00  Mung_Bean_Commodity_Soy_            Jul-19   $77.34\n",
       "10   4/10/2018 0:00          Soy_Bean_Commodity        Juley-19   $84.59\n",
       "11   4/10/2018 0:00           Soybean_Commodity       Desemb-19   $84.24\n",
       "12   4/10/2018 0:00          Soy_Bean_Commodity          Dec-19      NaN\n",
       "13   4/10/2018 0:00          Soy_Bean_Commodity          Dec-19   $83.69\n",
       "14   4/10/2018 0:00          Soy_Bean_Commodity          Mar-19   $83.37\n",
       "15   4/10/2018 0:00           Soybean_Commodity          Apr-19   $83.68\n",
       "16   4/10/2018 0:00  Mung_Bean_Commodity_Soy_            May-19   $82.64\n",
       "17   4/10/2018 0:00          Soy_Bean_Commodity          Jun-19   $81.46\n",
       "18   4/10/2018 0:00           Soybean_Commodity          Jul-19   $80.28\n",
       "19   4/10/2018 0:00              Soy_Commodity          Mmar-19   $82.05\n",
       "20   4/10/2018 0:00         Soy_Beann_Commodity          Apr-19  -$19.71\n",
       "21   4/10/2018 0:00          Soy_Bean_Commodity        Junnn-19   $82.01\n",
       "22   4/10/2018 0:00         Soy_Beann_Commodity          Jul-19   $77.44\n",
       "23  26/09/2018 0:00         Soy_Beann_Commodity          Jun-19   $77.77\n",
       "24  26/09/2018 0:00         Soy_Beann_Commodity          Jul-19   $76.69\n",
       "25  26/09/2018 0:00         Soy_Beann_Commodity      Janeury-19   $75.61\n",
       "26  26/09/2018 0:00              Soy_Commodity           Apr-19   $80.25\n",
       "27  26/09/2018 0:00              Soy_Commodity          Mmar-19   $78.31\n",
       "28  26/09/2018 0:00              Soy_Commodity           Apr-19   $76.15\n",
       "29  26/09/2018 0:00              Soy_Commodity         Junnn-19   $78.28"
      ]
     },
     "execution_count": 4,
     "metadata": {},
     "output_type": "execute_result"
    }
   ],
   "source": [
    "soy_df.head(30)"
   ]
  },
  {
   "cell_type": "markdown",
   "metadata": {},
   "source": [
    "<h3 style=\"color:#20b2aa\"> 1. Replacing Data with Regex</h3>"
   ]
  },
  {
   "cell_type": "markdown",
   "metadata": {},
   "source": [
    "Replacing Data with the .replace function is useful for <b> small </b> modifications to a dataframe.\n",
    "\n",
    "In this exercise we'll take a look at how we can use the .replace() methodology and combine this with the regex argument.\n",
    "\n",
    "Firstly, we'll need to define what the correct records/entries in each dataframe should be and store this in a list for our reference. \n",
    "\n",
    "For example, imagine if we have the following entries:\n",
    "\n",
    "<ol>\n",
    "    <li> Corn Bread </li>\n",
    "    <li> C0rn Br3ad </li>\n",
    "    <li> C0n Bre33d </li>\n",
    "       \n",
    "</ol>\n",
    "\n",
    "In short, they all read as some permutation of Corn Bread, however we can deduce that the correct entry would be Corn Bread.\n",
    "\n",
    "We can prepare a list that contains the right entries here:\n",
    "\n",
    "    correctEntries = [\"Corn Bread\"]\n",
    "\n",
    "Similarly, we can prepare a list that contains all the <b>*incorrect*</b> entries and use this as a guide for us to correct all the incorrect spellings.\n",
    "\n",
    "    incorrectEntries = ['C0rn Br3ad','C0n Bre33d']\n",
    "\n",
    "We can then make use of the .replace and regex function to replace the data in our dataframe.\n",
    "\n",
    "    dataframe['column'].replace(\"incorrectEntry\",\"correctEntry\", regex=True, inplace=True)\n",
    "    \n",
    "<b> Using the example above we could then do:</b>\n",
    "    \n",
    "    dataframe['ColumnOfInterest'].replace(\"C0rn Br3ad\",\"Corn Bread\", regex=True, inplace=True) \n",
    "    \n",
    "    \n",
    "<b><span style=\"color: Purple\">It is important to note that without specifying **regex = True** the replacement of the incorrect entry with the correct entry will not take place. </span> </b>\n",
    "\n",
    "Now you're armed with this information - give it a try!"
   ]
  },
  {
   "cell_type": "markdown",
   "metadata": {},
   "source": [
    "<b><span style=\"color: #20b2aa\">Place your answer below here </style></b>"
   ]
  },
  {
   "cell_type": "code",
   "execution_count": 5,
   "metadata": {},
   "outputs": [
    {
     "data": {
      "text/plain": [
       "array(['Soy_Commodity ', 'Soy_Bean_Commodity',\n",
       "       'Mung_Bean_Commodity_Soy_  ', '  Soy_Beann_Commodity',\n",
       "       'Soybean_Commodity'], dtype=object)"
      ]
     },
     "execution_count": 5,
     "metadata": {},
     "output_type": "execute_result"
    }
   ],
   "source": [
    "soy_df['Commodity_Traded'].unique()"
   ]
  },
  {
   "cell_type": "code",
   "execution_count": 6,
   "metadata": {},
   "outputs": [],
   "source": [
    "correctEntry = ['Soybean_Commodity']\n",
    "incorrectEntries = ['Soy_Commodity ', 'Soy_Bean_Commodity',\n",
    "       'Mung_Bean_Commodity_Soy_  ', '  Soy_Beann_Commodity',\n",
    "       'Soybean_Commodity']\n",
    "\n",
    "soy_df['Commodity_Traded'].replace('Soy_Commodity ', 'Soybean_Commodity', regex=True, inplace=True)\n",
    "soy_df['Commodity_Traded'].replace('Soy_Bean_Commodity', 'Soybean_Commodity', regex=True, inplace=True)\n",
    "soy_df['Commodity_Traded'].replace('Mung_Bean_Commodity_Soy_  ', 'Soybean_Commodity', regex=True, inplace=True)\n",
    "soy_df['Commodity_Traded'].replace('Soy_Beann_Commodity', 'Soybean_Commodity', regex=True, inplace=True)\n",
    "soy_df['Commodity_Traded'].replace('  Soybean_Commodity', 'Soybean_Commodity', regex=True, inplace=True)"
   ]
  },
  {
   "cell_type": "code",
   "execution_count": 7,
   "metadata": {},
   "outputs": [
    {
     "data": {
      "text/plain": [
       "array(['Soybean_Commodity'], dtype=object)"
      ]
     },
     "execution_count": 7,
     "metadata": {},
     "output_type": "execute_result"
    }
   ],
   "source": [
    "soy_df['Commodity_Traded'].unique()"
   ]
  },
  {
   "cell_type": "markdown",
   "metadata": {},
   "source": [
    "<span style=\"color: #da9100\"> As we mentioned earlier, if you have a *small number* of entries that need to be replaced then .replace is fine.     \n",
    "However, if you have many - you might be better off using a cleaner alternative known as **dictionaries**. </span>\n",
    "\n",
    "\n",
    "<h3 style=\"color:#20b2aa\"> 2. Dictionary Mapping </h3>"
   ]
  },
  {
   "cell_type": "markdown",
   "metadata": {},
   "source": [
    "As you would have learnt earlier, Dictionaries use key-value pair relationships where once you provide the 'key', you can extract the associated value. \n",
    "\n",
    "**This might not make sense immediately so think of it as a VLOOKUP, but *in Python*.** \n",
    "\n",
    "We're going to offer a quick refresher regarding how to make use of the .map() function and how this works with our dictionary objects in Python.\n",
    "\n",
    "The .map function essentially *binds* what you searching against the item it will replace.\n",
    "\n",
    "Say for example, I had the following:\n",
    "\n",
    "<b>exampleDict: </b>\n",
    "\n",
    "    {\n",
    "    \"One\": 1,\n",
    "    \"Two\":2\n",
    "    }\n",
    "    \n",
    "If I have a dataframe that contains the values \"One\" and \"Two\" and I want to have them replaced with numbers, I can then simply go:\n",
    "\n",
    "    dataframe['ColumnWithNumbers'].map(exampleDict)\n",
    "    \n",
    "This tells Python to act on the dataframe, specifically the column called 'ColumnWithNumbers', and for every entry that has \"one\" or \"two\" - replace this with the value, 1 and 2 (Hence the concept behind Key-Value Pair mappings).\n",
    "\n",
    "If you need extra assistance, take a look at the following link:\n",
    "\n",
    "https://chrisalbon.com/python/data_wrangling/pandas_map_values_to_values/\n"
   ]
  },
  {
   "cell_type": "markdown",
   "metadata": {},
   "source": [
    "<h3> Question Two </h3>\n",
    "\n",
    "You've observed the Contract_Traded Column and observed how there seems to be some typo(s) that exist in the Column. Previously you've sough to use .replace(), but this time you've decided to use <b> dictionary mapping </b> to help you out with cleaning this column.\n",
    "\n",
    "<b> Using your new-found knowledge of how .map() works (as demonstrated below), replace all the typos that currently exist in the Contract_Traded Column.\n"
   ]
  },
  {
   "cell_type": "markdown",
   "metadata": {},
   "source": [
    "<b><span style=\"color: #20b2aa\">Place your answer below here </style></b>"
   ]
  },
  {
   "cell_type": "code",
   "execution_count": 8,
   "metadata": {},
   "outputs": [
    {
     "data": {
      "text/plain": [
       "array(['Mar-19', 'Apr-19', 'May-19', 'Jun-19', 'Jul-19', 'Mmar-19',\n",
       "       'Junnn-19', 'Juley-19', 'Desemb-19', 'Dec-19', 'Janeury-19',\n",
       "       'Feb-19', 'Febb-19'], dtype=object)"
      ]
     },
     "execution_count": 8,
     "metadata": {},
     "output_type": "execute_result"
    }
   ],
   "source": [
    "soy_df['Contract_Traded'].unique()"
   ]
  },
  {
   "cell_type": "code",
   "execution_count": 9,
   "metadata": {},
   "outputs": [],
   "source": [
    "mapping_dict = {\n",
    "    'Mar-19' : 'Mar-19', \n",
    "    'Apr-19' : 'Apr-19', \n",
    "    'May-19' : 'May-19', \n",
    "    'Jun-19' : 'Jun-19', \n",
    "    'Jul-19' : 'Jul-19', \n",
    "    'Mmar-19' : 'Mar-19',\n",
    "    'Junnn-19' : 'Jun-19', \n",
    "    'Juley-19' : 'Jul-19', \n",
    "    'Desemb-19' : 'Dec-19', \n",
    "    'Dec-19' : 'Dec-19', \n",
    "    'Janeury-19' : 'Jan-19',\n",
    "    'Feb-19' : 'Feb-19', \n",
    "    'Febb-19' : 'Feb-19'\n",
    "}\n",
    "\n",
    "soy_df['Contract_Traded'] = soy_df['Contract_Traded'].map(mapping_dict)"
   ]
  },
  {
   "cell_type": "code",
   "execution_count": 10,
   "metadata": {},
   "outputs": [
    {
     "data": {
      "text/plain": [
       "array(['Mar-19', 'Apr-19', 'May-19', 'Jun-19', 'Jul-19', 'Dec-19',\n",
       "       'Jan-19', 'Feb-19'], dtype=object)"
      ]
     },
     "execution_count": 10,
     "metadata": {},
     "output_type": "execute_result"
    }
   ],
   "source": [
    "soy_df['Contract_Traded'].unique()"
   ]
  },
  {
   "cell_type": "markdown",
   "metadata": {},
   "source": [
    "<h3> Question Three </h3>\n",
    "\n",
    "Now we come to the final question of our three (3) part mini challenge.\n",
    "\n",
    "<b> Interpolation </b>\n",
    "\n",
    "Previously you learnt how to proceed with time series interpolation and how to fill in <b> missing gaps in a series of data </b>.\n",
    "\n",
    "However, if you plot out the VALUE Column, you would observe that there are some <b> negative price periods </b> in the dataset. \n",
    "\n",
    "This represents an anomaly which shouldn't be occurring as Soy Beans shouldn't be traded for Negative Value. \n",
    "\n",
    "<b>\n",
    "This brings us to our final question where you'll need to perform the following:\n",
    "<p>\n",
    "i) Please replace all negative values in the VALUE Column with a blank (i.e. \" \")\n",
    "    <p>\n",
    "ii) Using Linear Interpolation, <b> fill in all the blanks in the dataset \n",
    "        </b>\n",
    "\n",
    "<b> Hint: You may find this link <a href = \"https://pandas.pydata.org/docs/reference/api/pandas.DataFrame.interpolate.html\"> here </a> helpful to solve the Interpolation Challenge you're facing. </b>\n"
   ]
  },
  {
   "cell_type": "markdown",
   "metadata": {},
   "source": [
    "<b><span style=\"color: #20b2aa\">Place your answer below here </style></b>"
   ]
  },
  {
   "cell_type": "code",
   "execution_count": 11,
   "metadata": {},
   "outputs": [
    {
     "data": {
      "text/plain": [
       "Index(['OPR_DATE', 'Commodity_Traded', 'Contract_Traded', 'VALUE'], dtype='object')"
      ]
     },
     "execution_count": 11,
     "metadata": {},
     "output_type": "execute_result"
    }
   ],
   "source": [
    "soy_df.columns"
   ]
  },
  {
   "cell_type": "code",
   "execution_count": 12,
   "metadata": {},
   "outputs": [
    {
     "data": {
      "text/plain": [
       "array(['83.48', '83.11', '83.80', '82.72', '81.49', '80.27', '82.11',\n",
       "       '79.68', '-12.06', '77.34', '84.59', '84.24', nan, '83.69',\n",
       "       '83.37', '83.68', '82.64', '81.46', '80.28', '82.05', '-19.71',\n",
       "       '82.01', '77.44', '77.77', '76.69', '75.61', '80.25', '78.31',\n",
       "       '76.15', '78.28', '80.89', '80.53', '80.24', '79.97', '79.67',\n",
       "       '79.96', '78.96', '77.82', '76.70', '78.39', '78.36', '73.97',\n",
       "       '79.77', '79.43', '79.19', '78.94', '78.67', '78.93', 'error',\n",
       "       '76.91', '75.86', '74.85', '79.37', '77.45', '75.35', '77.42',\n",
       "       '73.26', '80.62', '80.04', '79.79', '79.51', '79.78', '78.84',\n",
       "       '77.75', '76.67', '80.22', '78.30', '76.14', '78.26', '74.05',\n",
       "       '83.91', '83.45', '83.18', '82.86', '83.44', '82.50', '81.35',\n",
       "       '80.19', '79.06', '81.93', '79.62', '72.92', '72.82', '72.64',\n",
       "       '72.44', '72.22', '72.90', '72.43', '71.42', '68.58', '76.35',\n",
       "       '76.17'], dtype=object)"
      ]
     },
     "execution_count": 12,
     "metadata": {},
     "output_type": "execute_result"
    }
   ],
   "source": [
    "soy_df['VALUE'] = soy_df['VALUE'].str.replace('$', '')\n",
    "soy_df['VALUE'].unique()"
   ]
  },
  {
   "cell_type": "code",
   "execution_count": 13,
   "metadata": {},
   "outputs": [],
   "source": [
    "#soy_df.loc[soy_df['VALUE'].str.contains(\"-\", \"VALUE\")]= np.NaN\n",
    "# pd.option_context('display.max_rows',100)\n",
    "\n",
    "# soy_df2['Numerical_Check'] = (soy_df2['VALUE'].str.contains('^[0-9]*'))\n",
    "\n",
    "#^ - Matching the Start of the Value\n",
    "#[0-9] Should include any value that contains 0 - 9 \n",
    "#* - Greedy Quantifier. One or More."
   ]
  },
  {
   "cell_type": "code",
   "execution_count": 14,
   "metadata": {},
   "outputs": [],
   "source": [
    "#replaced empty strings and 'error' with np.NaN\n",
    "soy_df['VALUE'].replace('', np.NaN, regex=True, inplace=True)\n",
    "soy_df['VALUE'].replace('error', np.NaN, regex=True, inplace=True)\n",
    "\n",
    "\n",
    "#identified rows with negative values and created a column with boolean to indentify negative values\n",
    "soy_df['negative'] = soy_df['VALUE'].str.contains(\"-\", \"VALUE\")"
   ]
  },
  {
   "cell_type": "code",
   "execution_count": 15,
   "metadata": {},
   "outputs": [
    {
     "data": {
      "text/html": [
       "<div>\n",
       "<style scoped>\n",
       "    .dataframe tbody tr th:only-of-type {\n",
       "        vertical-align: middle;\n",
       "    }\n",
       "\n",
       "    .dataframe tbody tr th {\n",
       "        vertical-align: top;\n",
       "    }\n",
       "\n",
       "    .dataframe thead th {\n",
       "        text-align: right;\n",
       "    }\n",
       "</style>\n",
       "<table border=\"1\" class=\"dataframe\">\n",
       "  <thead>\n",
       "    <tr style=\"text-align: right;\">\n",
       "      <th></th>\n",
       "      <th>OPR_DATE</th>\n",
       "      <th>Commodity_Traded</th>\n",
       "      <th>Contract_Traded</th>\n",
       "      <th>VALUE</th>\n",
       "      <th>negative</th>\n",
       "    </tr>\n",
       "  </thead>\n",
       "  <tbody>\n",
       "    <tr>\n",
       "      <th>8</th>\n",
       "      <td>3/10/2018 0:00</td>\n",
       "      <td>Soybean_Commodity</td>\n",
       "      <td>Jun-19</td>\n",
       "      <td>-12.06</td>\n",
       "      <td>True</td>\n",
       "    </tr>\n",
       "    <tr>\n",
       "      <th>20</th>\n",
       "      <td>4/10/2018 0:00</td>\n",
       "      <td>Soybean_Commodity</td>\n",
       "      <td>Apr-19</td>\n",
       "      <td>-19.71</td>\n",
       "      <td>True</td>\n",
       "    </tr>\n",
       "  </tbody>\n",
       "</table>\n",
       "</div>"
      ],
      "text/plain": [
       "          OPR_DATE   Commodity_Traded Contract_Traded   VALUE negative\n",
       "8   3/10/2018 0:00  Soybean_Commodity          Jun-19  -12.06     True\n",
       "20  4/10/2018 0:00  Soybean_Commodity          Apr-19  -19.71     True"
      ]
     },
     "execution_count": 15,
     "metadata": {},
     "output_type": "execute_result"
    }
   ],
   "source": [
    "soy_df[soy_df['negative']==True]"
   ]
  },
  {
   "cell_type": "code",
   "execution_count": 16,
   "metadata": {},
   "outputs": [],
   "source": [
    "#assigned NaN to negative values\n",
    "\n",
    "soy_df.loc[8 , 'VALUE'] = np.NaN\n",
    "soy_df.loc[20 , 'VALUE'] = np.NaN"
   ]
  },
  {
   "cell_type": "code",
   "execution_count": 17,
   "metadata": {},
   "outputs": [
    {
     "data": {
      "text/html": [
       "<div>\n",
       "<style scoped>\n",
       "    .dataframe tbody tr th:only-of-type {\n",
       "        vertical-align: middle;\n",
       "    }\n",
       "\n",
       "    .dataframe tbody tr th {\n",
       "        vertical-align: top;\n",
       "    }\n",
       "\n",
       "    .dataframe thead th {\n",
       "        text-align: right;\n",
       "    }\n",
       "</style>\n",
       "<table border=\"1\" class=\"dataframe\">\n",
       "  <thead>\n",
       "    <tr style=\"text-align: right;\">\n",
       "      <th></th>\n",
       "      <th>OPR_DATE</th>\n",
       "      <th>Commodity_Traded</th>\n",
       "      <th>Contract_Traded</th>\n",
       "      <th>VALUE</th>\n",
       "      <th>negative</th>\n",
       "    </tr>\n",
       "  </thead>\n",
       "  <tbody>\n",
       "    <tr>\n",
       "      <th>8</th>\n",
       "      <td>3/10/2018 0:00</td>\n",
       "      <td>Soybean_Commodity</td>\n",
       "      <td>Jun-19</td>\n",
       "      <td>NaN</td>\n",
       "      <td>True</td>\n",
       "    </tr>\n",
       "    <tr>\n",
       "      <th>20</th>\n",
       "      <td>4/10/2018 0:00</td>\n",
       "      <td>Soybean_Commodity</td>\n",
       "      <td>Apr-19</td>\n",
       "      <td>NaN</td>\n",
       "      <td>True</td>\n",
       "    </tr>\n",
       "  </tbody>\n",
       "</table>\n",
       "</div>"
      ],
      "text/plain": [
       "          OPR_DATE   Commodity_Traded Contract_Traded VALUE negative\n",
       "8   3/10/2018 0:00  Soybean_Commodity          Jun-19   NaN     True\n",
       "20  4/10/2018 0:00  Soybean_Commodity          Apr-19   NaN     True"
      ]
     },
     "execution_count": 17,
     "metadata": {},
     "output_type": "execute_result"
    }
   ],
   "source": [
    "soy_df[soy_df['negative']==True]"
   ]
  },
  {
   "cell_type": "code",
   "execution_count": 18,
   "metadata": {},
   "outputs": [],
   "source": [
    "#converted 'VALUE' column to float type\n",
    "soy_df['VALUE'] = soy_df['VALUE'].astype(float)"
   ]
  },
  {
   "cell_type": "code",
   "execution_count": 19,
   "metadata": {},
   "outputs": [],
   "source": [
    "#interploted NAN values\n",
    "soy_df['VALUE'] = soy_df['VALUE'].interpolate(method='linear')"
   ]
  },
  {
   "cell_type": "code",
   "execution_count": 25,
   "metadata": {},
   "outputs": [
    {
     "data": {
      "image/png": "[encoded data removed]",
      "text/plain": [
       "<Figure size 1800x360 with 1 Axes>"
      ]
     },
     "metadata": {
      "needs_background": "light"
     },
     "output_type": "display_data"
    }
   ],
   "source": [
    "sns.barplot(x='Contract_Traded', y='VALUE', data=soy_df)\n",
    "plt.show()"
   ]
  },
  {
   "cell_type": "markdown",
   "metadata": {},
   "source": [
    "![Tracked_Logo](img/finish_run.png)\n",
    "<b><center>And we're done with mini Data Cleansing assignment Woohoo! </center></b>"
   ]
  },
  {
   "cell_type": "code",
   "execution_count": 27,
   "metadata": {},
   "outputs": [
    {
     "data": {
      "image/png": "[encoded data removed]",
      "text/plain": [
       "<Figure size 1800x360 with 1 Axes>"
      ]
     },
     "metadata": {
      "needs_background": "light"
     },
     "output_type": "display_data"
    }
   ],
   "source": [
    "soy_df[\"VALUE\"].plot.line()\n",
    "plt.show()"
   ]
  },
  {
   "cell_type": "code",
   "execution_count": null,
   "metadata": {},
   "outputs": [],
   "source": []
  }
 ],
 "metadata": {
  "kernelspec": {
   "display_name": "Python 3",
   "language": "python",
   "name": "python3"
  },
  "language_info": {
   "codemirror_mode": {
    "name": "ipython",
    "version": 3
   },
   "file_extension": ".py",
   "mimetype": "text/x-python",
   "name": "python",
   "nbconvert_exporter": "python",
   "pygments_lexer": "ipython3",
   "version": "3.8.5"
  }
 },
 "nbformat": 4,
 "nbformat_minor": 2
}
